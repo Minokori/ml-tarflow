{
 "cells": [
  {
   "cell_type": "code",
   "execution_count": null,
   "id": "413d2e46",
   "metadata": {},
   "outputs": [],
   "source": [
    "import os\n",
    "import torch\n",
    "import torchvision as tv\n",
    "import transformer_flow\n",
    "import utils\n",
    "import pathlib\n",
    "utils.set_random_seed(0)\n",
    "notebook_output_path = pathlib.Path('runs/notebook')"
   ]
  },
  {
   "cell_type": "code",
   "execution_count": null,
   "id": "bb5c805d",
   "metadata": {},
   "outputs": [],
   "source": [
    "# specify the following parameters to match the model config\n",
    "dataset = 'afhq'\n",
    "num_classes = {'imagenet': 1000, 'imagenet64': 0, 'afhq': 3}[dataset]\n",
    "img_size = 256\n",
    "channel_size = 3\n",
    "\n",
    "batch_size = 16\n",
    "patch_size = 8\n",
    "channels = 768\n",
    "blocks = 8\n",
    "layers_per_block = 8\n",
    "noise_std = 0.07\n",
    "\n",
    "device = 'cuda'\n",
    "\n",
    "model_name = f'{patch_size}_{channels}_{blocks}_{layers_per_block}_{noise_std:.2f}'\n",
    "ckpt_file = notebook_output_path / f'{dataset}_model_{model_name}.pth'\n",
    "# we can download a pretrained model, comment this out if testing your own checkpoints\n",
    "os.system(f'wget https://ml-site.cdn-apple.com/models/tarflow/afhq256/afhq_model_8_768_8_8_0.07.pth -q -P {notebook_output_path}')\n",
    "\n",
    "sample_dir = notebook_output_path / f'{dataset}_samples_{model_name}'\n",
    "sample_dir.mkdir(exist_ok=True, parents=True)\n",
    "\n",
    "fixed_noise = torch.randn(batch_size, (img_size // patch_size)**2, channel_size * patch_size ** 2, device=device)\n",
    "if num_classes:\n",
    "    fixed_y = torch.randint(num_classes, (batch_size,), device=device)\n",
    "else:\n",
    "    fixed_y = None\n",
    "\n",
    "model = transformer_flow.Model(in_channels=channel_size, img_size=img_size, patch_size=patch_size,\n",
    "              channels=channels, num_blocks=blocks, layers_per_block=layers_per_block,\n",
    "             num_classes=num_classes).to(device)\n",
    "model.load_state_dict(torch.load(ckpt_file))\n",
    "print('checkpoint loaded!')"
   ]
  },
  {
   "cell_type": "code",
   "execution_count": null,
   "id": "2d3ab3be",
   "metadata": {},
   "outputs": [],
   "source": [
    "# now let's generate samples\n",
    "guided_samples = {}\n",
    "with torch.no_grad():\n",
    "    for guidance in [0, 1]:\n",
    "        with torch.autocast(device_type=device, dtype=torch.bfloat16):\n",
    "            samples = model.reverse(fixed_noise, fixed_y, guidance)\n",
    "            guided_samples[guidance] = samples\n",
    "        tv.utils.save_image(samples, sample_dir / f'samples_guidance_{guidance:.2f}.png', normalize=True, nrow=4)\n",
    "        print(f'guidance {guidance} sampling complete')"
   ]
  },
  {
   "cell_type": "code",
   "execution_count": null,
   "id": "63854821",
   "metadata": {},
   "outputs": [],
   "source": [
    "# finally we denoise the samples\n",
    "for p in model.parameters():\n",
    "    p.requires_grad = False\n",
    "\n",
    "# remember the loss is mean, whereas log prob is sum\n",
    "lr = batch_size * img_size ** 2 * channel_size * noise_std ** 2\n",
    "for guidance, sample in guided_samples.items():\n",
    "    x = torch.clone(guided_samples[guidance]).detach()\n",
    "    x.requires_grad = True\n",
    "    with torch.autocast(device_type=device, dtype=torch.bfloat16):\n",
    "        z, outputs, logdets = model(x, fixed_y)\n",
    "    loss = model.get_loss(z, logdets)\n",
    "    grad = torch.autograd.grad(loss, [x])[0]\n",
    "    x.data = x.data - lr * grad\n",
    "    samples = x\n",
    "    print(f'guidance {guidance} denoising complete')\n",
    "    tv.utils.save_image(samples, sample_dir / f'samples_guidance_{guidance:.2f}_denoised.png', normalize=True, nrow=4)"
   ]
  }
 ],
 "metadata": {
  "kernelspec": {
   "display_name": "Python 3",
   "language": "python",
   "name": "python3"
  },
  "language_info": {
   "codemirror_mode": {
    "name": "ipython",
    "version": 3
   },
   "file_extension": ".py",
   "mimetype": "text/x-python",
   "name": "python",
   "nbconvert_exporter": "python",
   "pygments_lexer": "ipython3",
   "version": "3.13.2"
  }
 },
 "nbformat": 4,
 "nbformat_minor": 5
}
